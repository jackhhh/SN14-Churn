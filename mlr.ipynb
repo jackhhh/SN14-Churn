{
 "metadata": {
  "language_info": {
   "codemirror_mode": {
    "name": "ipython",
    "version": 3
   },
   "file_extension": ".py",
   "mimetype": "text/x-python",
   "name": "python",
   "nbconvert_exporter": "python",
   "pygments_lexer": "ipython3",
   "version": "3.8.0"
  },
  "orig_nbformat": 2,
  "kernelspec": {
   "name": "python380jvsc74a57bd067eefbe8442c0a01776733284beb16ab6a663f1b1ec10354c24e1023d80688c7",
   "display_name": "Python 3.8.0 64-bit ('py38-ds': conda)"
  },
  "metadata": {
   "interpreter": {
    "hash": "c42498b3af7f0a40f4058e1c07174f4eebce32b6b903b1a026bc5171b48d5d24"
   }
  }
 },
 "nbformat": 4,
 "nbformat_minor": 2,
 "cells": [
  {
   "cell_type": "code",
   "execution_count": 1,
   "metadata": {},
   "outputs": [
    {
     "output_type": "execute_result",
     "data": {
      "text/plain": [
       "                  business_id            city  label   latitude   longitude  \\\n",
       "0      ZrkH2I-ct6rYX1FNBhY1oA          Nahant      1  42.436666  -70.936382   \n",
       "1      UYWYdJjPjQDTRqhpfGvRLw          Osteen      0  28.843058  -81.164583   \n",
       "2      odq3dSNenceAyzoyNogosA    South Natick      1  42.263404  -71.309128   \n",
       "3      uiBZ6yYQ0wv6nwdhkrf4nA  West Vancouver      0  49.334655 -123.180291   \n",
       "4      vwKdjOBaGprrN3Qyn4u8sw  West Vancouver      0  49.373914 -123.274435   \n",
       "...                       ...             ...    ...        ...         ...   \n",
       "26332  WpBwwZ2qVQmveXd_0CZuJg        Hilliard      0  40.017815  -83.136995   \n",
       "26333  yHixklhb5guNmcvWkg8qZw        Hilliard      1  40.030409  -83.156736   \n",
       "26334  GiIWtDUqYHIheAKT0zKs4g        Hilliard      1  40.017995  -83.136033   \n",
       "26335  i4YPpmtUfkQSCNu1T7aZYA       Berkshire      0  40.267734  -82.924768   \n",
       "26336  9eFrYEAaVGtOBwQ_dnPFBw        CLERMONT      1  28.533040  -81.734660   \n",
       "\n",
       "       review_count  stars state  neighbor_count  4star_neighbor_count  \\\n",
       "0                19    3.0    MA               0                     0   \n",
       "1                 5    4.0    FL               0                     0   \n",
       "2                12    2.5    MA               0                     0   \n",
       "3                 2    2.5    BC              13                     9   \n",
       "4                 4    3.5    BC               8                     3   \n",
       "...             ...    ...   ...             ...                   ...   \n",
       "26332            16    4.5    OH              23                     9   \n",
       "26333             8    4.0    OH              32                    18   \n",
       "26334            15    4.0    OH              23                     8   \n",
       "26335             2    2.5    OH               0                     0   \n",
       "26336             5    3.0    FL               0                     0   \n",
       "\n",
       "       active_users_in_city  neighbor_review_count  \n",
       "0                        19                    0.0  \n",
       "1                         5                    0.0  \n",
       "2                        12                    0.0  \n",
       "3                       145                   62.0  \n",
       "4                       145                   52.0  \n",
       "...                     ...                    ...  \n",
       "26332                   344                  205.0  \n",
       "26333                   344                  296.0  \n",
       "26334                   344                  198.0  \n",
       "26335                     2                    0.0  \n",
       "26336                     5                    0.0  \n",
       "\n",
       "[26337 rows x 12 columns]"
      ],
      "text/html": "<div>\n<style scoped>\n    .dataframe tbody tr th:only-of-type {\n        vertical-align: middle;\n    }\n\n    .dataframe tbody tr th {\n        vertical-align: top;\n    }\n\n    .dataframe thead th {\n        text-align: right;\n    }\n</style>\n<table border=\"1\" class=\"dataframe\">\n  <thead>\n    <tr style=\"text-align: right;\">\n      <th></th>\n      <th>business_id</th>\n      <th>city</th>\n      <th>label</th>\n      <th>latitude</th>\n      <th>longitude</th>\n      <th>review_count</th>\n      <th>stars</th>\n      <th>state</th>\n      <th>neighbor_count</th>\n      <th>4star_neighbor_count</th>\n      <th>active_users_in_city</th>\n      <th>neighbor_review_count</th>\n    </tr>\n  </thead>\n  <tbody>\n    <tr>\n      <th>0</th>\n      <td>ZrkH2I-ct6rYX1FNBhY1oA</td>\n      <td>Nahant</td>\n      <td>1</td>\n      <td>42.436666</td>\n      <td>-70.936382</td>\n      <td>19</td>\n      <td>3.0</td>\n      <td>MA</td>\n      <td>0</td>\n      <td>0</td>\n      <td>19</td>\n      <td>0.0</td>\n    </tr>\n    <tr>\n      <th>1</th>\n      <td>UYWYdJjPjQDTRqhpfGvRLw</td>\n      <td>Osteen</td>\n      <td>0</td>\n      <td>28.843058</td>\n      <td>-81.164583</td>\n      <td>5</td>\n      <td>4.0</td>\n      <td>FL</td>\n      <td>0</td>\n      <td>0</td>\n      <td>5</td>\n      <td>0.0</td>\n    </tr>\n    <tr>\n      <th>2</th>\n      <td>odq3dSNenceAyzoyNogosA</td>\n      <td>South Natick</td>\n      <td>1</td>\n      <td>42.263404</td>\n      <td>-71.309128</td>\n      <td>12</td>\n      <td>2.5</td>\n      <td>MA</td>\n      <td>0</td>\n      <td>0</td>\n      <td>12</td>\n      <td>0.0</td>\n    </tr>\n    <tr>\n      <th>3</th>\n      <td>uiBZ6yYQ0wv6nwdhkrf4nA</td>\n      <td>West Vancouver</td>\n      <td>0</td>\n      <td>49.334655</td>\n      <td>-123.180291</td>\n      <td>2</td>\n      <td>2.5</td>\n      <td>BC</td>\n      <td>13</td>\n      <td>9</td>\n      <td>145</td>\n      <td>62.0</td>\n    </tr>\n    <tr>\n      <th>4</th>\n      <td>vwKdjOBaGprrN3Qyn4u8sw</td>\n      <td>West Vancouver</td>\n      <td>0</td>\n      <td>49.373914</td>\n      <td>-123.274435</td>\n      <td>4</td>\n      <td>3.5</td>\n      <td>BC</td>\n      <td>8</td>\n      <td>3</td>\n      <td>145</td>\n      <td>52.0</td>\n    </tr>\n    <tr>\n      <th>...</th>\n      <td>...</td>\n      <td>...</td>\n      <td>...</td>\n      <td>...</td>\n      <td>...</td>\n      <td>...</td>\n      <td>...</td>\n      <td>...</td>\n      <td>...</td>\n      <td>...</td>\n      <td>...</td>\n      <td>...</td>\n    </tr>\n    <tr>\n      <th>26332</th>\n      <td>WpBwwZ2qVQmveXd_0CZuJg</td>\n      <td>Hilliard</td>\n      <td>0</td>\n      <td>40.017815</td>\n      <td>-83.136995</td>\n      <td>16</td>\n      <td>4.5</td>\n      <td>OH</td>\n      <td>23</td>\n      <td>9</td>\n      <td>344</td>\n      <td>205.0</td>\n    </tr>\n    <tr>\n      <th>26333</th>\n      <td>yHixklhb5guNmcvWkg8qZw</td>\n      <td>Hilliard</td>\n      <td>1</td>\n      <td>40.030409</td>\n      <td>-83.156736</td>\n      <td>8</td>\n      <td>4.0</td>\n      <td>OH</td>\n      <td>32</td>\n      <td>18</td>\n      <td>344</td>\n      <td>296.0</td>\n    </tr>\n    <tr>\n      <th>26334</th>\n      <td>GiIWtDUqYHIheAKT0zKs4g</td>\n      <td>Hilliard</td>\n      <td>1</td>\n      <td>40.017995</td>\n      <td>-83.136033</td>\n      <td>15</td>\n      <td>4.0</td>\n      <td>OH</td>\n      <td>23</td>\n      <td>8</td>\n      <td>344</td>\n      <td>198.0</td>\n    </tr>\n    <tr>\n      <th>26335</th>\n      <td>i4YPpmtUfkQSCNu1T7aZYA</td>\n      <td>Berkshire</td>\n      <td>0</td>\n      <td>40.267734</td>\n      <td>-82.924768</td>\n      <td>2</td>\n      <td>2.5</td>\n      <td>OH</td>\n      <td>0</td>\n      <td>0</td>\n      <td>2</td>\n      <td>0.0</td>\n    </tr>\n    <tr>\n      <th>26336</th>\n      <td>9eFrYEAaVGtOBwQ_dnPFBw</td>\n      <td>CLERMONT</td>\n      <td>1</td>\n      <td>28.533040</td>\n      <td>-81.734660</td>\n      <td>5</td>\n      <td>3.0</td>\n      <td>FL</td>\n      <td>0</td>\n      <td>0</td>\n      <td>5</td>\n      <td>0.0</td>\n    </tr>\n  </tbody>\n</table>\n<p>26337 rows × 12 columns</p>\n</div>"
     },
     "metadata": {},
     "execution_count": 1
    }
   ],
   "source": [
    "import pandas as pd\n",
    "import statsmodels.api as sm\n",
    "import matplotlib.pyplot as plt\n",
    "from sklearn import preprocessing\n",
    "\n",
    "datas = pd.read_json('../yelp_dataset/yelp_dataset_labeled.json', lines=True).fillna(0)\n",
    "datas"
   ]
  },
  {
   "cell_type": "code",
   "execution_count": 2,
   "metadata": {},
   "outputs": [
    {
     "output_type": "execute_result",
     "data": {
      "text/plain": [
       "       city   latitude   longitude  review_count  stars  state  \\\n",
       "0       201  42.436666  -70.936382            19    3.0      6   \n",
       "1       236  28.843058  -81.164583             5    4.0      3   \n",
       "2       280  42.263404  -71.309128            12    2.5      6   \n",
       "3       323  49.334655 -123.180291             2    2.5      0   \n",
       "4       323  49.373914 -123.274435             4    3.5      0   \n",
       "...     ...        ...         ...           ...    ...    ...   \n",
       "26332   136  40.017815  -83.136995            16    4.5      7   \n",
       "26333   136  40.030409  -83.156736             8    4.0      7   \n",
       "26334   136  40.017995  -83.136033            15    4.0      7   \n",
       "26335    27  40.267734  -82.924768             2    2.5      7   \n",
       "26336    48  28.533040  -81.734660             5    3.0      3   \n",
       "\n",
       "       neighbor_count  4star_neighbor_count  active_users_in_city  \\\n",
       "0                   0                     0                    19   \n",
       "1                   0                     0                     5   \n",
       "2                   0                     0                    12   \n",
       "3                  13                     9                   145   \n",
       "4                   8                     3                   145   \n",
       "...               ...                   ...                   ...   \n",
       "26332              23                     9                   344   \n",
       "26333              32                    18                   344   \n",
       "26334              23                     8                   344   \n",
       "26335               0                     0                     2   \n",
       "26336               0                     0                     5   \n",
       "\n",
       "       neighbor_review_count  \n",
       "0                        0.0  \n",
       "1                        0.0  \n",
       "2                        0.0  \n",
       "3                       62.0  \n",
       "4                       52.0  \n",
       "...                      ...  \n",
       "26332                  205.0  \n",
       "26333                  296.0  \n",
       "26334                  198.0  \n",
       "26335                    0.0  \n",
       "26336                    0.0  \n",
       "\n",
       "[26337 rows x 10 columns]"
      ],
      "text/html": "<div>\n<style scoped>\n    .dataframe tbody tr th:only-of-type {\n        vertical-align: middle;\n    }\n\n    .dataframe tbody tr th {\n        vertical-align: top;\n    }\n\n    .dataframe thead th {\n        text-align: right;\n    }\n</style>\n<table border=\"1\" class=\"dataframe\">\n  <thead>\n    <tr style=\"text-align: right;\">\n      <th></th>\n      <th>city</th>\n      <th>latitude</th>\n      <th>longitude</th>\n      <th>review_count</th>\n      <th>stars</th>\n      <th>state</th>\n      <th>neighbor_count</th>\n      <th>4star_neighbor_count</th>\n      <th>active_users_in_city</th>\n      <th>neighbor_review_count</th>\n    </tr>\n  </thead>\n  <tbody>\n    <tr>\n      <th>0</th>\n      <td>201</td>\n      <td>42.436666</td>\n      <td>-70.936382</td>\n      <td>19</td>\n      <td>3.0</td>\n      <td>6</td>\n      <td>0</td>\n      <td>0</td>\n      <td>19</td>\n      <td>0.0</td>\n    </tr>\n    <tr>\n      <th>1</th>\n      <td>236</td>\n      <td>28.843058</td>\n      <td>-81.164583</td>\n      <td>5</td>\n      <td>4.0</td>\n      <td>3</td>\n      <td>0</td>\n      <td>0</td>\n      <td>5</td>\n      <td>0.0</td>\n    </tr>\n    <tr>\n      <th>2</th>\n      <td>280</td>\n      <td>42.263404</td>\n      <td>-71.309128</td>\n      <td>12</td>\n      <td>2.5</td>\n      <td>6</td>\n      <td>0</td>\n      <td>0</td>\n      <td>12</td>\n      <td>0.0</td>\n    </tr>\n    <tr>\n      <th>3</th>\n      <td>323</td>\n      <td>49.334655</td>\n      <td>-123.180291</td>\n      <td>2</td>\n      <td>2.5</td>\n      <td>0</td>\n      <td>13</td>\n      <td>9</td>\n      <td>145</td>\n      <td>62.0</td>\n    </tr>\n    <tr>\n      <th>4</th>\n      <td>323</td>\n      <td>49.373914</td>\n      <td>-123.274435</td>\n      <td>4</td>\n      <td>3.5</td>\n      <td>0</td>\n      <td>8</td>\n      <td>3</td>\n      <td>145</td>\n      <td>52.0</td>\n    </tr>\n    <tr>\n      <th>...</th>\n      <td>...</td>\n      <td>...</td>\n      <td>...</td>\n      <td>...</td>\n      <td>...</td>\n      <td>...</td>\n      <td>...</td>\n      <td>...</td>\n      <td>...</td>\n      <td>...</td>\n    </tr>\n    <tr>\n      <th>26332</th>\n      <td>136</td>\n      <td>40.017815</td>\n      <td>-83.136995</td>\n      <td>16</td>\n      <td>4.5</td>\n      <td>7</td>\n      <td>23</td>\n      <td>9</td>\n      <td>344</td>\n      <td>205.0</td>\n    </tr>\n    <tr>\n      <th>26333</th>\n      <td>136</td>\n      <td>40.030409</td>\n      <td>-83.156736</td>\n      <td>8</td>\n      <td>4.0</td>\n      <td>7</td>\n      <td>32</td>\n      <td>18</td>\n      <td>344</td>\n      <td>296.0</td>\n    </tr>\n    <tr>\n      <th>26334</th>\n      <td>136</td>\n      <td>40.017995</td>\n      <td>-83.136033</td>\n      <td>15</td>\n      <td>4.0</td>\n      <td>7</td>\n      <td>23</td>\n      <td>8</td>\n      <td>344</td>\n      <td>198.0</td>\n    </tr>\n    <tr>\n      <th>26335</th>\n      <td>27</td>\n      <td>40.267734</td>\n      <td>-82.924768</td>\n      <td>2</td>\n      <td>2.5</td>\n      <td>7</td>\n      <td>0</td>\n      <td>0</td>\n      <td>2</td>\n      <td>0.0</td>\n    </tr>\n    <tr>\n      <th>26336</th>\n      <td>48</td>\n      <td>28.533040</td>\n      <td>-81.734660</td>\n      <td>5</td>\n      <td>3.0</td>\n      <td>3</td>\n      <td>0</td>\n      <td>0</td>\n      <td>5</td>\n      <td>0.0</td>\n    </tr>\n  </tbody>\n</table>\n<p>26337 rows × 10 columns</p>\n</div>"
     },
     "metadata": {},
     "execution_count": 2
    }
   ],
   "source": [
    "y = datas.iloc[:, 2]\n",
    "x = datas.drop(columns=['business_id', 'label'])\n",
    "city = datas['city']\n",
    "state = datas['state']\n",
    "city_dummies = pd.get_dummies(city, drop_first=True)\n",
    "state_dummies = pd.get_dummies(state, drop_first=True)\n",
    "x = pd.concat(objs=[datas.drop(columns=['business_id', 'label', 'city', 'state']), city_dummies, state_dummies], axis='columns')\n",
    "x\n"
   ]
  },
  {
   "cell_type": "code",
   "execution_count": 3,
   "metadata": {},
   "outputs": [
    {
     "output_type": "stream",
     "name": "stdout",
     "text": [
      "                            OLS Regression Results                            \n==============================================================================\nDep. Variable:                  label   R-squared:                       0.003\nModel:                            OLS   Adj. R-squared:                  0.003\nMethod:                 Least Squares   F-statistic:                     8.748\nDate:                Thu, 27 May 2021   Prob (F-statistic):           1.79e-14\nTime:                        15:15:07   Log-Likelihood:                -17151.\nNo. Observations:               26337   AIC:                         3.432e+04\nDf Residuals:                   26326   BIC:                         3.441e+04\nDf Model:                          10                                         \nCovariance Type:            nonrobust                                         \n=========================================================================================\n                            coef    std err          t      P>|t|      [0.025      0.975]\n-----------------------------------------------------------------------------------------\nconst                     0.3139      0.026     12.266      0.000       0.264       0.364\ncity                   -1.15e-06      3e-05     -0.038      0.969   -5.99e-05    5.76e-05\nlatitude                 -0.0030      0.001     -5.084      0.000      -0.004      -0.002\nlongitude                -0.0005      0.000     -2.180      0.029      -0.001   -4.64e-05\nreview_count             -0.0006      0.000     -5.574      0.000      -0.001      -0.000\nstars                     0.0223      0.004      5.260      0.000       0.014       0.031\nstate                     0.0010      0.001      0.799      0.424      -0.001       0.003\nneighbor_count        -9.148e-06   5.88e-05     -0.156      0.876      -0.000       0.000\n4star_neighbor_count   6.194e-06      0.000      0.057      0.955      -0.000       0.000\nactive_users_in_city  -2.473e-07   6.64e-07     -0.372      0.710   -1.55e-06    1.06e-06\nneighbor_review_count  2.592e-07   1.94e-06      0.133      0.894   -3.55e-06    4.07e-06\n==============================================================================\nOmnibus:                   370625.676   Durbin-Watson:                   2.017\nProb(Omnibus):                  0.000   Jarque-Bera (JB):             4768.910\nSkew:                           0.788   Prob(JB):                         0.00\nKurtosis:                       1.636   Cond. No.                     1.00e+05\n==============================================================================\n\nNotes:\n[1] Standard Errors assume that the covariance matrix of the errors is correctly specified.\n[2] The condition number is large,  1e+05. This might indicate that there are\nstrong multicollinearity or other numerical problems.\n"
     ]
    }
   ],
   "source": [
    "x = sm.add_constant(x) # 若模型中有截距，必须有这一步\n",
    "model = sm.OLS(y, x).fit() # 构建最小二乘模型并拟合\n",
    "print(model.summary()) # 输出回归结果"
   ]
  }
 ]
}